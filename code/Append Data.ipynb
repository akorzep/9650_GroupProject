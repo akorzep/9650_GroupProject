{
 "cells": [
  {
   "cell_type": "code",
   "execution_count": 17,
   "metadata": {},
   "outputs": [],
   "source": [
    "import pandas as pd"
   ]
  },
  {
   "cell_type": "code",
   "execution_count": 41,
   "metadata": {},
   "outputs": [],
   "source": [
    "Data_2020 = pd.read_csv(r'C:\\Users\\Shilp\\Documents\\Shilpa\\Shilpa MSBA\\Semester 1\\Programming for Analytics [CIS 9650]\\Final Group Project\\2020.csv')"
   ]
  },
  {
   "cell_type": "code",
   "execution_count": 42,
   "metadata": {},
   "outputs": [],
   "source": [
    "Data_2019 = pd.read_csv(r'C:\\Users\\Shilp\\Documents\\Shilpa\\Shilpa MSBA\\Semester 1\\Programming for Analytics [CIS 9650]\\Final Group Project\\2019.csv')"
   ]
  },
  {
   "cell_type": "code",
   "execution_count": 43,
   "metadata": {},
   "outputs": [],
   "source": [
    "Data_2018= pd.read_csv(r'C:\\Users\\Shilp\\Documents\\Shilpa\\Shilpa MSBA\\Semester 1\\Programming for Analytics [CIS 9650]\\Final Group Project\\2018.csv')"
   ]
  },
  {
   "cell_type": "code",
   "execution_count": 44,
   "metadata": {},
   "outputs": [],
   "source": [
    "Data_2017= pd.read_csv(r'C:\\Users\\Shilp\\Documents\\Shilpa\\Shilpa MSBA\\Semester 1\\Programming for Analytics [CIS 9650]\\Final Group Project\\2017.csv')"
   ]
  },
  {
   "cell_type": "code",
   "execution_count": 45,
   "metadata": {},
   "outputs": [],
   "source": [
    "Data_2016= pd.read_csv(r'C:\\Users\\Shilp\\Documents\\Shilpa\\Shilpa MSBA\\Semester 1\\Programming for Analytics [CIS 9650]\\Final Group Project\\2016.csv')"
   ]
  },
  {
   "cell_type": "code",
   "execution_count": 46,
   "metadata": {},
   "outputs": [],
   "source": [
    "Data_2015= pd.read_csv(r'C:\\Users\\Shilp\\Documents\\Shilpa\\Shilpa MSBA\\Semester 1\\Programming for Analytics [CIS 9650]\\Final Group Project\\2015.csv')"
   ]
  },
  {
   "cell_type": "code",
   "execution_count": 47,
   "metadata": {},
   "outputs": [],
   "source": [
    "Data_2014= pd.read_csv(r'C:\\Users\\Shilp\\Documents\\Shilpa\\Shilpa MSBA\\Semester 1\\Programming for Analytics [CIS 9650]\\Final Group Project\\2014.csv')"
   ]
  },
  {
   "cell_type": "code",
   "execution_count": 48,
   "metadata": {},
   "outputs": [],
   "source": [
    "Data_2013 = pd.read_csv(r'C:\\Users\\Shilp\\Documents\\Shilpa\\Shilpa MSBA\\Semester 1\\Programming for Analytics [CIS 9650]\\Final Group Project\\2013.csv')"
   ]
  },
  {
   "cell_type": "code",
   "execution_count": 49,
   "metadata": {},
   "outputs": [],
   "source": [
    "Data_2012= pd.read_csv(r'C:\\Users\\Shilp\\Documents\\Shilpa\\Shilpa MSBA\\Semester 1\\Programming for Analytics [CIS 9650]\\Final Group Project\\2012.csv')"
   ]
  },
  {
   "cell_type": "code",
   "execution_count": 50,
   "metadata": {},
   "outputs": [],
   "source": [
    "Data_2011= pd.read_csv(r'C:\\Users\\Shilp\\Documents\\Shilpa\\Shilpa MSBA\\Semester 1\\Programming for Analytics [CIS 9650]\\Final Group Project\\2011.csv')"
   ]
  },
  {
   "cell_type": "code",
   "execution_count": 51,
   "metadata": {},
   "outputs": [],
   "source": [
    "Data_2010= pd.read_csv(r'C:\\Users\\Shilp\\Documents\\Shilpa\\Shilpa MSBA\\Semester 1\\Programming for Analytics [CIS 9650]\\Final Group Project\\2010.csv')"
   ]
  },
  {
   "cell_type": "code",
   "execution_count": 52,
   "metadata": {},
   "outputs": [],
   "source": [
    "data_append = Data_2020.append(Data_2019, ignore_index=True)"
   ]
  },
  {
   "cell_type": "code",
   "execution_count": 61,
   "metadata": {},
   "outputs": [],
   "source": [
    "data_append = data_append.append(Data_2010, ignore_index=True)"
   ]
  },
  {
   "cell_type": "code",
   "execution_count": 75,
   "metadata": {},
   "outputs": [],
   "source": [
    "data_append.to_csv(r'C:\\Users\\Shilp\\Documents\\Shilpa\\Shilpa MSBA\\Semester 1\\Programming for Analytics [CIS 9650]\\Final Group Project\\data_2010_2020.csv') "
   ]
  },
  {
   "cell_type": "code",
   "execution_count": null,
   "metadata": {},
   "outputs": [],
   "source": []
  }
 ],
 "metadata": {
  "kernelspec": {
   "display_name": "Python 3",
   "language": "python",
   "name": "python3"
  },
  "language_info": {
   "codemirror_mode": {
    "name": "ipython",
    "version": 3
   },
   "file_extension": ".py",
   "mimetype": "text/x-python",
   "name": "python",
   "nbconvert_exporter": "python",
   "pygments_lexer": "ipython3",
   "version": "3.8.3"
  }
 },
 "nbformat": 4,
 "nbformat_minor": 4
}
